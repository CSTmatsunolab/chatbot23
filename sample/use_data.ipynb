{
 "cells": [
  {
   "cell_type": "code",
   "execution_count": 37,
   "metadata": {},
   "outputs": [
    {
     "data": {
      "text/plain": [
       "'全体ゼミ'"
      ]
     },
     "execution_count": 37,
     "metadata": {},
     "output_type": "execute_result"
    }
   ],
   "source": [
    "import os\n",
    "import json\n",
    "data_path = os.path.join(os.path.dirname(os.getcwd()), \"slack_data\")\n",
    "channel = os.listdir(data_path)\n",
    "channel[47]"
   ]
  },
  {
   "cell_type": "code",
   "execution_count": 38,
   "metadata": {},
   "outputs": [],
   "source": [
    "import glob\n",
    "tmp = os.path.join(data_path,channel[47], \"*.json\")\n",
    "target = glob.glob(tmp)[0]\n"
   ]
  },
  {
   "cell_type": "code",
   "execution_count": 39,
   "metadata": {},
   "outputs": [
    {
     "data": {
      "text/plain": [
       "'/Users/yu/program/chatbot23/slack_data/全体ゼミ/C6XL0T6UU_channel_hist.json'"
      ]
     },
     "execution_count": 39,
     "metadata": {},
     "output_type": "execute_result"
    }
   ],
   "source": [
    "target"
   ]
  },
  {
   "cell_type": "code",
   "execution_count": 40,
   "metadata": {},
   "outputs": [],
   "source": [
    "with open(target) as f:\n",
    "    data = json.load(f)"
   ]
  },
  {
   "cell_type": "code",
   "execution_count": 41,
   "metadata": {},
   "outputs": [
    {
     "data": {
      "text/plain": [
       "967"
      ]
     },
     "execution_count": 41,
     "metadata": {},
     "output_type": "execute_result"
    }
   ],
   "source": [
    "len(data)"
   ]
  },
  {
   "cell_type": "code",
   "execution_count": 6,
   "metadata": {},
   "outputs": [],
   "source": [
    "data[20][\"user_name\"] = \"hhh\""
   ]
  },
  {
   "cell_type": "code",
   "execution_count": 7,
   "metadata": {},
   "outputs": [
    {
     "data": {
      "text/plain": [
       "[{'subtype': 'channel_archive',\n",
       "  'text': 'archived the channel',\n",
       "  'ts': '1555910335.000300',\n",
       "  'type': 'message',\n",
       "  'user': 'UD32JHVL7'},\n",
       " {'subtype': 'channel_join',\n",
       "  'text': '<@UD32JHVL7> has joined the channel',\n",
       "  'ts': '1555910327.000200',\n",
       "  'type': 'message',\n",
       "  'user': 'UD32JHVL7'},\n",
       " {'blocks': [{'block_id': 'GV=tR',\n",
       "    'elements': [{'elements': [{'text': 'なんか、平山先生の12/5の3限だった補講が12/12に変更になったので前原明日発表になりました、、、',\n",
       "        'type': 'text'}],\n",
       "      'type': 'rich_text_section'}],\n",
       "    'type': 'rich_text'}],\n",
       "  'team': 'T6WULA63S',\n",
       "  'text': 'なんか、平山先生の12/5の3限だった補講が12/12に変更になったので前原明日発表になりました、、、',\n",
       "  'ts': '1512346652.000078',\n",
       "  'type': 'message',\n",
       "  'user': 'U7DPNCR0U'},\n",
       " {'blocks': [{'block_id': '4ZE',\n",
       "    'elements': [{'elements': [{'text': '明日3限輪講やりますby大沼先輩', 'type': 'text'}],\n",
       "      'type': 'rich_text_section'}],\n",
       "    'type': 'rich_text'}],\n",
       "  'team': 'T6WULA63S',\n",
       "  'text': '明日3限輪講やりますby大沼先輩',\n",
       "  'ts': '1511751591.000137',\n",
       "  'type': 'message',\n",
       "  'user': 'U7DKV6ACT'},\n",
       " {'blocks': [{'block_id': 'Zod4',\n",
       "    'elements': [{'elements': [{'text': 'お昼希望で', 'type': 'text'}],\n",
       "      'type': 'rich_text_section'}],\n",
       "    'type': 'rich_text'}],\n",
       "  'team': 'T6WULA63S',\n",
       "  'text': 'お昼希望で',\n",
       "  'ts': '1511707059.000045',\n",
       "  'type': 'message',\n",
       "  'user': 'U7JLHH16F'}]"
      ]
     },
     "execution_count": 7,
     "metadata": {},
     "output_type": "execute_result"
    }
   ],
   "source": [
    "data[:5]"
   ]
  },
  {
   "cell_type": "code",
   "execution_count": 42,
   "metadata": {},
   "outputs": [],
   "source": [
    "from util import vector_db\n",
    "import configparser\n",
    "\n",
    "\n",
    "class my_cfg:\n",
    "    openai_key = None\n",
    "    openai_org_id = None\n",
    "    SLACK_APP_TOKEN = None\n",
    "    SLACK_BOT_TOKEN = None\n",
    "\n",
    "def setup_cfg(cfg=my_cfg):\n",
    "    tmp = configparser.ConfigParser()\n",
    "    tmp.read(\"config.ini\")\n",
    "    cfg.openai_key = tmp[\"OPEN_AI\"][\"key\"]\n",
    "    cfg.openai_org_id = tmp[\"OPEN_AI\"][\"organization_ID\"]\n",
    "    cfg.SLACK_APP_TOKEN = tmp[\"chatbot\"][\"SLACK_APP_TOKEN\"]\n",
    "    cfg.SLACK_BOT_TOKEN = tmp[\"chatbot\"][\"SLACK_BOT_TOKEN\"]\n",
    "    return cfg\n",
    "\n",
    "cfg = setup_cfg()\n",
    "\n",
    "db = vector_db(target=\"text\", cfg=cfg)\n",
    "db.add_documents(data)\n",
    "db.save(\"全体ゼミ.pkl.gz\")"
   ]
  },
  {
   "cell_type": "code",
   "execution_count": 43,
   "metadata": {},
   "outputs": [],
   "source": [
    "a = db.query(\"おはよ\")"
   ]
  },
  {
   "cell_type": "code",
   "execution_count": 44,
   "metadata": {},
   "outputs": [
    {
     "data": {
      "text/plain": [
       "[{'blocks': [{'block_id': 'So4u',\n",
       "    'elements': [{'elements': [{'text': 'あった', 'type': 'text'}],\n",
       "      'type': 'rich_text_section'}],\n",
       "    'type': 'rich_text'}],\n",
       "  'client_msg_id': '43c0c713-d0e9-4ede-901b-d8a44f684cff',\n",
       "  'team': 'T6WULA63S',\n",
       "  'text': 'あった',\n",
       "  'ts': '1531821820.000119',\n",
       "  'type': 'message',\n",
       "  'user': 'U7D7WMM5F'},\n",
       " {'blocks': [{'block_id': 'f+yQE',\n",
       "    'elements': [{'elements': [{'text': 'えぇ...', 'type': 'text'}],\n",
       "      'type': 'rich_text_section'}],\n",
       "    'type': 'rich_text'}],\n",
       "  'client_msg_id': 'B7E9E39E-7FBD-40EE-B032-3407AABA1003',\n",
       "  'team': 'T6WULA63S',\n",
       "  'text': 'えぇ...',\n",
       "  'ts': '1545385717.001500',\n",
       "  'type': 'message',\n",
       "  'user': 'U7D6SJCAD'},\n",
       " {'attachments': [{'author_icon': 'https://avatars.slack-edge.com/2022-10-04/4199493425456_58b1dffa59890af37a2a_48.png',\n",
       "    'author_id': 'U044HJDLCJ2',\n",
       "    'author_link': 'https://matsulabnu.slack.com/team/U044HJDLCJ2',\n",
       "    'author_name': '米本尭斗',\n",
       "    'author_subname': '米本尭斗',\n",
       "    'channel_id': 'C6XL0T6UU',\n",
       "    'channel_name': '全体ゼミ',\n",
       "    'channel_team': 'T6WULA63S',\n",
       "    'color': 'D0D0D0',\n",
       "    'fallback': '[March 7th, 2023 11:52 PM] csgy20105: 串焼BISTRO 福みみ 新宿店、コースで2時間飲み放題付きになります。5500円(税込)です。\\n予約は18:30〜なので、18:15にJR新宿駅の東南口広場に集合とします。現地集合でも構いません。何かあればご連絡お願いします。',\n",
       "    'footer': 'From a thread in #全体ゼミ',\n",
       "    'from_url': 'https://matsulabnu.slack.com/archives/C6XL0T6UU/p1678200764704339?thread_ts=1675316361.406019&cid=C6XL0T6UU',\n",
       "    'is_msg_unfurl': True,\n",
       "    'is_reply_unfurl': True,\n",
       "    'is_share': True,\n",
       "    'message_blocks': [{'channel': 'C6XL0T6UU',\n",
       "      'message': {'blocks': [{'block_id': 'yoRO',\n",
       "         'elements': [{'elements': [{'text': '串焼BISTRO 福みみ 新宿店、コースで2時間飲み放題付きになります。5500円(税込)です。\\n予約は18:30〜なので、18:15にJR新宿駅の東南口広場に集合とします。現地集合でも構いません。何かあればご連絡お願いします。',\n",
       "             'type': 'text'}],\n",
       "           'type': 'rich_text_section'}],\n",
       "         'type': 'rich_text'}]},\n",
       "      'team': 'T6WULA63S',\n",
       "      'ts': '1678200764.704339'}],\n",
       "    'mrkdwn_in': ['text'],\n",
       "    'msg_subtype': 'thread_broadcast',\n",
       "    'text': '串焼BISTRO 福みみ 新宿店、コースで2時間飲み放題付きになります。5500円(税込)です。\\n予約は18:30〜なので、18:15にJR新宿駅の東南口広場に集合とします。現地集合でも構いません。何かあればご連絡お願いします。',\n",
       "    'ts': '1678200764.704339'}],\n",
       "  'blocks': [{'block_id': '7Nf3',\n",
       "    'elements': [{'elements': [{'text': '本日です。よろしくお願いします。', 'type': 'text'}],\n",
       "      'type': 'rich_text_section'}],\n",
       "    'type': 'rich_text'}],\n",
       "  'is_locked': False,\n",
       "  'latest_reply': '1680082042.011329',\n",
       "  'reactions': [{'count': 3,\n",
       "    'name': '+1',\n",
       "    'users': ['U6YLZUWAK', 'U0449L54VKR', 'U044HJDLCJ2']}],\n",
       "  'reply_count': 9,\n",
       "  'reply_users': ['U6YLZUWAK',\n",
       "   'U02GVKN3CJV',\n",
       "   'UNKU3S7C2',\n",
       "   'U02GK7DPF8C',\n",
       "   'UNYMRF17S',\n",
       "   'U02GH21B3H8',\n",
       "   'U01CJ8MK0M6',\n",
       "   'U02GE1XMN4V',\n",
       "   'U044HJDLCJ2'],\n",
       "  'reply_users_count': 9,\n",
       "  'subscribed': False,\n",
       "  'team': 'T6WULA63S',\n",
       "  'text': '本日です。よろしくお願いします。',\n",
       "  'thread_ts': '1680062410.946999',\n",
       "  'ts': '1680062410.946999',\n",
       "  'type': 'message',\n",
       "  'user': 'U044HJDLCJ2'},\n",
       " {'blocks': [{'block_id': 'JXh',\n",
       "    'elements': [{'elements': [{'text': '了解です', 'type': 'text'}],\n",
       "      'type': 'rich_text_section'}],\n",
       "    'type': 'rich_text'}],\n",
       "  'client_msg_id': '21af700f-c2b9-43d2-a7ab-c1bd76478700',\n",
       "  'team': 'T6WULA63S',\n",
       "  'text': '了解です',\n",
       "  'ts': '1627611260.006300',\n",
       "  'type': 'message',\n",
       "  'user': 'U6YLZUWAK'},\n",
       " {'blocks': [{'block_id': 'APn2e',\n",
       "    'elements': [{'elements': [{'text': 'ありがとうございます', 'type': 'text'}],\n",
       "      'type': 'rich_text_section'}],\n",
       "    'type': 'rich_text'}],\n",
       "  'client_msg_id': '2653B320-E5D8-4EFF-ABC9-25C283A7175B',\n",
       "  'team': 'T6WULA63S',\n",
       "  'text': 'ありがとうございます',\n",
       "  'ts': '1633405726.051200',\n",
       "  'type': 'message',\n",
       "  'user': 'U02H6LYKVDE'}]"
      ]
     },
     "execution_count": 44,
     "metadata": {},
     "output_type": "execute_result"
    }
   ],
   "source": [
    "a"
   ]
  },
  {
   "cell_type": "code",
   "execution_count": null,
   "metadata": {},
   "outputs": [],
   "source": []
  }
 ],
 "metadata": {
  "kernelspec": {
   "display_name": "venv",
   "language": "python",
   "name": "python3"
  },
  "language_info": {
   "codemirror_mode": {
    "name": "ipython",
    "version": 3
   },
   "file_extension": ".py",
   "mimetype": "text/x-python",
   "name": "python",
   "nbconvert_exporter": "python",
   "pygments_lexer": "ipython3",
   "version": "3.9.11"
  },
  "orig_nbformat": 4
 },
 "nbformat": 4,
 "nbformat_minor": 2
}
