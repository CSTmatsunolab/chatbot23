{
 "cells": [
  {
   "cell_type": "code",
   "execution_count": 3,
   "metadata": {},
   "outputs": [],
   "source": [
    "import os\n",
    "import json\n",
    "data_path = os.path.join(os.path.dirname(os.getcwd()), \"slack_data\")"
   ]
  },
  {
   "cell_type": "code",
   "execution_count": 34,
   "metadata": {},
   "outputs": [
    {
     "data": {
      "text/plain": [
       "['deeplearning輪講',\n",
       " '2022アジャイル',\n",
       " '越前谷チーム',\n",
       " 'tire4-matsulabnu',\n",
       " 'vr',\n",
       " '榎本チーム',\n",
       " '防災アプリ開発',\n",
       " 'server_management',\n",
       " 'クラウドファンディング',\n",
       " '就活情報',\n",
       " 'devops-dcase',\n",
       " '.DS_Store',\n",
       " 'ocamlゼミ',\n",
       " '3年ゼミ杉田班',\n",
       " 'ソフトウェア工学輪講',\n",
       " 'mlab2020',\n",
       " '2022unityとアジャイルゼミ',\n",
       " 'ac-book_kakenb',\n",
       " 'testgpt',\n",
       " '2022-aチーム',\n",
       " '機械学習輪講',\n",
       " 'pc構成',\n",
       " 'mmlab2019',\n",
       " '研究室改善カンバン',\n",
       " '越前谷チーム_ソフトウェア開発ゼミ',\n",
       " '人呼んで講演とか',\n",
       " '水平思考ルーム',\n",
       " 'python輪講',\n",
       " '議事録',\n",
       " '仲良し4人組',\n",
       " 'aグループ_3年生unity',\n",
       " '全体ゼミ_アーカイブ予定',\n",
       " 'メカトロ妹背藩',\n",
       " '4年生',\n",
       " 'アジャイル輪講',\n",
       " 'sugita_test',\n",
       " 'aiゼミ',\n",
       " '研究室会議',\n",
       " 'channels.json',\n",
       " '備品ー相談',\n",
       " 'プログラミング言語ゼミ',\n",
       " '入退室管理システム開発',\n",
       " '2019_3年ゼミ_課題',\n",
       " '3年ゼミ準備',\n",
       " 'ロボコン',\n",
       " 'modeling',\n",
       " 'アシュアランスケース本',\n",
       " '全体ゼミ',\n",
       " 'googlehome',\n",
       " '備品ー研究ゼミ用',\n",
       " 'レクリエーション',\n",
       " '自然言語処理輪講',\n",
       " '要求工学',\n",
       " '習志野高校ゼミ',\n",
       " '3年アジャイル輪講',\n",
       " 'テスト駆動開発ゼミ',\n",
       " 'googlecalender',\n",
       " 'sugitatest',\n",
       " '4年開発ゼミ',\n",
       " 'tier4_研究室ローカル',\n",
       " 'てすと',\n",
       " '議事録アプリ開発',\n",
       " '３年ゼミ',\n",
       " 'アジャイル開発',\n",
       " '2022-bチーム',\n",
       " 'アジャイル開発班',\n",
       " '統計分析と機械学習輪講',\n",
       " '2019_3年ゼミ',\n",
       " 'random',\n",
       " '修士ゼミ',\n",
       " 'd-case_communicator',\n",
       " '入退室管理',\n",
       " '3年杉田斑_todo',\n",
       " '電話',\n",
       " '自然言語処理ゼミプロジェクト',\n",
       " '短大ゼミ',\n",
       " '20年4年生',\n",
       " '3年生ゼミ',\n",
       " '自作pc',\n",
       " 'smartphone-app',\n",
       " 'プロフィール集め',\n",
       " '3',\n",
       " 'git輪講',\n",
       " '2018matsulab',\n",
       " '2019_4年ゼミ']"
      ]
     },
     "execution_count": 34,
     "metadata": {},
     "output_type": "execute_result"
    }
   ],
   "source": [
    "channel = os.listdir(data_path)\n",
    "channel"
   ]
  },
  {
   "cell_type": "code",
   "execution_count": 28,
   "metadata": {},
   "outputs": [],
   "source": [
    "import glob\n",
    "tmp = os.path.join(data_path,channel[0], \"*.json\")\n",
    "target = glob.glob(tmp)[0]\n"
   ]
  },
  {
   "cell_type": "code",
   "execution_count": 36,
   "metadata": {},
   "outputs": [
    {
     "data": {
      "text/plain": [
       "'/Users/yu/program/chatbot23/slack_data/deeplearning輪講/C7GM18PJA_channel_hist.json'"
      ]
     },
     "execution_count": 36,
     "metadata": {},
     "output_type": "execute_result"
    }
   ],
   "source": [
    "target"
   ]
  },
  {
   "cell_type": "code",
   "execution_count": 29,
   "metadata": {},
   "outputs": [],
   "source": [
    "with open(target) as f:\n",
    "    data = json.load(f)"
   ]
  },
  {
   "cell_type": "code",
   "execution_count": 41,
   "metadata": {},
   "outputs": [
    {
     "data": {
      "text/plain": [
       "{'blocks': [{'block_id': '+vnMx',\n",
       "   'elements': [{'elements': [{'text': '輪講順番\\n1.青山\\n2.中瀬\\n3.妹背\\n4.井出\\n5.伊地知\\n6.前原\\n7.石井',\n",
       "       'type': 'text'}],\n",
       "     'type': 'rich_text_section'}],\n",
       "   'type': 'rich_text'}],\n",
       " 'edited': {'ts': '1507619528.000000', 'user': 'U7D6SJCAD'},\n",
       " 'team': 'T6WULA63S',\n",
       " 'text': '輪講順番\\n1.青山\\n2.中瀬\\n3.妹背\\n4.井出\\n5.伊地知\\n6.前原\\n7.石井',\n",
       " 'ts': '1507619517.000035',\n",
       " 'type': 'message',\n",
       " 'user': 'U7D6SJCAD'}"
      ]
     },
     "execution_count": 41,
     "metadata": {},
     "output_type": "execute_result"
    }
   ],
   "source": [
    "data[20]"
   ]
  },
  {
   "cell_type": "code",
   "execution_count": null,
   "metadata": {},
   "outputs": [],
   "source": []
  }
 ],
 "metadata": {
  "kernelspec": {
   "display_name": "venv",
   "language": "python",
   "name": "python3"
  },
  "language_info": {
   "codemirror_mode": {
    "name": "ipython",
    "version": 3
   },
   "file_extension": ".py",
   "mimetype": "text/x-python",
   "name": "python",
   "nbconvert_exporter": "python",
   "pygments_lexer": "ipython3",
   "version": "3.9.11"
  },
  "orig_nbformat": 4
 },
 "nbformat": 4,
 "nbformat_minor": 2
}
