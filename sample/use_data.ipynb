{
 "cells": [
  {
   "cell_type": "code",
   "execution_count": 14,
   "metadata": {},
   "outputs": [
    {
     "data": {
      "text/plain": [
       "['deeplearning輪講',\n",
       " '2022アジャイル',\n",
       " '越前谷チーム',\n",
       " 'tire4-matsulabnu',\n",
       " 'vr',\n",
       " '榎本チーム',\n",
       " '防災アプリ開発',\n",
       " 'server_management',\n",
       " 'クラウドファンディング',\n",
       " '就活情報',\n",
       " 'devops-dcase',\n",
       " '.DS_Store',\n",
       " 'ocamlゼミ',\n",
       " '3年ゼミ杉田班',\n",
       " 'ソフトウェア工学輪講',\n",
       " 'mlab2020',\n",
       " '2022unityとアジャイルゼミ',\n",
       " 'ac-book_kakenb',\n",
       " 'testgpt',\n",
       " '2022-aチーム',\n",
       " '機械学習輪講',\n",
       " 'pc構成',\n",
       " 'mmlab2019',\n",
       " '研究室改善カンバン',\n",
       " '越前谷チーム_ソフトウェア開発ゼミ',\n",
       " '人呼んで講演とか',\n",
       " '水平思考ルーム',\n",
       " 'python輪講',\n",
       " '議事録',\n",
       " '仲良し4人組',\n",
       " 'aグループ_3年生unity',\n",
       " '全体ゼミ_アーカイブ予定',\n",
       " 'メカトロ妹背藩',\n",
       " '4年生',\n",
       " 'アジャイル輪講',\n",
       " 'sugita_test',\n",
       " 'aiゼミ',\n",
       " '研究室会議',\n",
       " 'channels.json',\n",
       " '備品ー相談',\n",
       " 'プログラミング言語ゼミ',\n",
       " '入退室管理システム開発',\n",
       " '2019_3年ゼミ_課題',\n",
       " '3年ゼミ準備',\n",
       " 'ロボコン',\n",
       " 'modeling',\n",
       " 'アシュアランスケース本',\n",
       " '全体ゼミ',\n",
       " 'googlehome',\n",
       " '備品ー研究ゼミ用',\n",
       " 'レクリエーション',\n",
       " '自然言語処理輪講',\n",
       " '要求工学',\n",
       " '習志野高校ゼミ',\n",
       " '3年アジャイル輪講',\n",
       " 'テスト駆動開発ゼミ',\n",
       " 'googlecalender',\n",
       " 'sugitatest',\n",
       " '4年開発ゼミ',\n",
       " 'tier4_研究室ローカル',\n",
       " 'てすと',\n",
       " '議事録アプリ開発',\n",
       " '３年ゼミ',\n",
       " 'アジャイル開発',\n",
       " '2022-bチーム',\n",
       " 'アジャイル開発班',\n",
       " '統計分析と機械学習輪講',\n",
       " '2019_3年ゼミ',\n",
       " 'random',\n",
       " '修士ゼミ',\n",
       " 'd-case_communicator',\n",
       " '入退室管理',\n",
       " '3年杉田斑_todo',\n",
       " '電話',\n",
       " '自然言語処理ゼミプロジェクト',\n",
       " '短大ゼミ',\n",
       " '20年4年生',\n",
       " '3年生ゼミ',\n",
       " '自作pc',\n",
       " 'smartphone-app',\n",
       " 'プロフィール集め',\n",
       " '3',\n",
       " 'git輪講',\n",
       " '2018matsulab',\n",
       " '2019_4年ゼミ']"
      ]
     },
     "execution_count": 14,
     "metadata": {},
     "output_type": "execute_result"
    }
   ],
   "source": [
    "import os\n",
    "import json\n",
    "data_path = os.path.join(os.path.dirname(os.getcwd()), \"slack_data\")\n",
    "channel = os.listdir(data_path)\n",
    "channel"
   ]
  },
  {
   "cell_type": "code",
   "execution_count": 3,
   "metadata": {},
   "outputs": [],
   "source": [
    "import glob\n",
    "tmp = os.path.join(data_path,channel[0], \"*.json\")\n",
    "target = glob.glob(tmp)[0]\n"
   ]
  },
  {
   "cell_type": "code",
   "execution_count": 4,
   "metadata": {},
   "outputs": [
    {
     "data": {
      "text/plain": [
       "'/Users/yu/program/chatbot23/slack_data/deeplearning輪講/C7GM18PJA_channel_hist.json'"
      ]
     },
     "execution_count": 4,
     "metadata": {},
     "output_type": "execute_result"
    }
   ],
   "source": [
    "target"
   ]
  },
  {
   "cell_type": "code",
   "execution_count": 5,
   "metadata": {},
   "outputs": [],
   "source": [
    "with open(target) as f:\n",
    "    data = json.load(f)"
   ]
  },
  {
   "cell_type": "code",
   "execution_count": 6,
   "metadata": {},
   "outputs": [],
   "source": [
    "data[20][\"user_name\"] = \"hhh\""
   ]
  },
  {
   "cell_type": "code",
   "execution_count": 7,
   "metadata": {},
   "outputs": [
    {
     "data": {
      "text/plain": [
       "[{'subtype': 'channel_archive',\n",
       "  'text': 'archived the channel',\n",
       "  'ts': '1555910335.000300',\n",
       "  'type': 'message',\n",
       "  'user': 'UD32JHVL7'},\n",
       " {'subtype': 'channel_join',\n",
       "  'text': '<@UD32JHVL7> has joined the channel',\n",
       "  'ts': '1555910327.000200',\n",
       "  'type': 'message',\n",
       "  'user': 'UD32JHVL7'},\n",
       " {'blocks': [{'block_id': 'GV=tR',\n",
       "    'elements': [{'elements': [{'text': 'なんか、平山先生の12/5の3限だった補講が12/12に変更になったので前原明日発表になりました、、、',\n",
       "        'type': 'text'}],\n",
       "      'type': 'rich_text_section'}],\n",
       "    'type': 'rich_text'}],\n",
       "  'team': 'T6WULA63S',\n",
       "  'text': 'なんか、平山先生の12/5の3限だった補講が12/12に変更になったので前原明日発表になりました、、、',\n",
       "  'ts': '1512346652.000078',\n",
       "  'type': 'message',\n",
       "  'user': 'U7DPNCR0U'},\n",
       " {'blocks': [{'block_id': '4ZE',\n",
       "    'elements': [{'elements': [{'text': '明日3限輪講やりますby大沼先輩', 'type': 'text'}],\n",
       "      'type': 'rich_text_section'}],\n",
       "    'type': 'rich_text'}],\n",
       "  'team': 'T6WULA63S',\n",
       "  'text': '明日3限輪講やりますby大沼先輩',\n",
       "  'ts': '1511751591.000137',\n",
       "  'type': 'message',\n",
       "  'user': 'U7DKV6ACT'},\n",
       " {'blocks': [{'block_id': 'Zod4',\n",
       "    'elements': [{'elements': [{'text': 'お昼希望で', 'type': 'text'}],\n",
       "      'type': 'rich_text_section'}],\n",
       "    'type': 'rich_text'}],\n",
       "  'team': 'T6WULA63S',\n",
       "  'text': 'お昼希望で',\n",
       "  'ts': '1511707059.000045',\n",
       "  'type': 'message',\n",
       "  'user': 'U7JLHH16F'}]"
      ]
     },
     "execution_count": 7,
     "metadata": {},
     "output_type": "execute_result"
    }
   ],
   "source": [
    "data[:5]"
   ]
  },
  {
   "cell_type": "code",
   "execution_count": 9,
   "metadata": {},
   "outputs": [],
   "source": [
    "from util import vector_db\n",
    "import configparser\n",
    "\n",
    "\n",
    "class my_cfg:\n",
    "    openai_key = None\n",
    "    openai_org_id = None\n",
    "    SLACK_APP_TOKEN = None\n",
    "    SLACK_BOT_TOKEN = None\n",
    "\n",
    "def setup_cfg(cfg=my_cfg):\n",
    "    tmp = configparser.ConfigParser()\n",
    "    tmp.read(\"config.ini\")\n",
    "    cfg.openai_key = tmp[\"OPEN_AI\"][\"key\"]\n",
    "    cfg.openai_org_id = tmp[\"OPEN_AI\"][\"organization_ID\"]\n",
    "    cfg.SLACK_APP_TOKEN = tmp[\"chatbot\"][\"SLACK_APP_TOKEN\"]\n",
    "    cfg.SLACK_BOT_TOKEN = tmp[\"chatbot\"][\"SLACK_BOT_TOKEN\"]\n",
    "    return cfg\n",
    "\n",
    "cfg = setup_cfg()\n",
    "\n",
    "db = vector_db(target=\"text\", cfg=cfg)\n",
    "db.add_documents(data)"
   ]
  },
  {
   "cell_type": "code",
   "execution_count": 12,
   "metadata": {},
   "outputs": [],
   "source": [
    "a = db.query(\"おはよ\")"
   ]
  },
  {
   "cell_type": "code",
   "execution_count": 16,
   "metadata": {},
   "outputs": [
    {
     "data": {
      "text/plain": [
       "{'blocks': [{'block_id': 'LhPPi',\n",
       "   'elements': [{'elements': [{'text': 'よろしくお願いします！', 'type': 'text'}],\n",
       "     'type': 'rich_text_section'}],\n",
       "   'type': 'rich_text'}],\n",
       " 'team': 'T6WULA63S',\n",
       " 'text': 'よろしくお願いします！',\n",
       " 'ts': '1507608781.000136',\n",
       " 'type': 'message',\n",
       " 'user': 'U7DKV6ACT'}"
      ]
     },
     "execution_count": 16,
     "metadata": {},
     "output_type": "execute_result"
    }
   ],
   "source": [
    "a[0]"
   ]
  },
  {
   "cell_type": "code",
   "execution_count": null,
   "metadata": {},
   "outputs": [],
   "source": []
  }
 ],
 "metadata": {
  "kernelspec": {
   "display_name": "venv",
   "language": "python",
   "name": "python3"
  },
  "language_info": {
   "codemirror_mode": {
    "name": "ipython",
    "version": 3
   },
   "file_extension": ".py",
   "mimetype": "text/x-python",
   "name": "python",
   "nbconvert_exporter": "python",
   "pygments_lexer": "ipython3",
   "version": "3.9.11"
  },
  "orig_nbformat": 4
 },
 "nbformat": 4,
 "nbformat_minor": 2
}
