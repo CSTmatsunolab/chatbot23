{
 "cells": [
  {
   "cell_type": "code",
   "execution_count": null,
   "metadata": {},
   "outputs": [],
   "source": [
    "import configparser\n",
    "from unstructured.partition.auto import partition\n",
    "from util.vector_db import vector_db\n",
    "\n",
    "class my_cfg:\n",
    "    file_name = None\n",
    "    out_file_name = None\n",
    "    openai_key = None\n",
    "    openai_org_id = None\n",
    "\n",
    "def initialize(cfg=my_cfg):\n",
    "    tmp = configparser.ConfigParser()\n",
    "    tmp.read(\"config.ini\")\n",
    "\n",
    "    # 自分のkey設定\n",
    "    cfg.openai_key = tmp[\"OPEN_AI\"][\"key\"]\n",
    "    cfg.openai_org_id = tmp[\"OPEN_AI\"][\"organization_ID\"]\n",
    "\n",
    "    # データベース化したいサイトに行って右クリック\n",
    "    # 名前を付けて保存をクリック\n",
    "    # ウェブページ、HTMLのみを選択して保存\n",
    "    cfg.file_name = \"konan.html\"\n",
    "\n",
    "    # 拡張子をpkl.gzにするとバイナリファイルになって読み書きが早い\n",
    "    cfg.out_file_name = \"konan.pkl.gz\"\n",
    "\n",
    "    return cfg\n",
    "\n",
    "cfg = initialize()\n",
    "\n",
    "\n",
    "\n",
    "elements = partition(my_cfg.file_name)\n",
    "elements = [str(e) for e in elements]\n",
    "\n"
   ]
  },
  {
   "cell_type": "code",
   "execution_count": null,
   "metadata": {},
   "outputs": [],
   "source": [
    "elements"
   ]
  },
  {
   "cell_type": "code",
   "execution_count": null,
   "metadata": {},
   "outputs": [],
   "source": [
    "#　ベクトル化するから時間かかる\n",
    "db = vector_db(cfg=cfg)\n",
    "\n",
    "# chunk_sizeは分割の具合\n",
    "db.split_and_add_docs(elements, chunk_size=5)\n",
    "\n",
    "# ベクトル化したものをバイナリファイルに保存する\n",
    "db.save(cfg.out_file_name)"
   ]
  },
  {
   "cell_type": "code",
   "execution_count": null,
   "metadata": {},
   "outputs": [],
   "source": []
  }
 ],
 "metadata": {
  "kernelspec": {
   "display_name": "venv",
   "language": "python",
   "name": "python3"
  },
  "language_info": {
   "codemirror_mode": {
    "name": "ipython",
    "version": 3
   },
   "file_extension": ".py",
   "mimetype": "text/x-python",
   "name": "python",
   "nbconvert_exporter": "python",
   "pygments_lexer": "ipython3",
   "version": "3.9.12"
  },
  "orig_nbformat": 4
 },
 "nbformat": 4,
 "nbformat_minor": 2
}
