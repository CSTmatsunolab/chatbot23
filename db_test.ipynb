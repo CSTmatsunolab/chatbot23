{
 "cells": [
  {
   "cell_type": "code",
   "execution_count": 5,
   "metadata": {},
   "outputs": [],
   "source": [
    "import json \n",
    "with open(\"log_sample.json\") as f:\n",
    "    sample = json.load(f)"
   ]
  },
  {
   "cell_type": "code",
   "execution_count": 8,
   "metadata": {},
   "outputs": [],
   "source": [
    "sample = sample[-10:]"
   ]
  },
  {
   "cell_type": "code",
   "execution_count": 9,
   "metadata": {},
   "outputs": [
    {
     "data": {
      "text/plain": [
       "[{'@yutaka has joined the channel': 'スクラムマスターは引き継ぎますが、最初の数回は僕が居合わせたいと思います。\\nそれと、木曜日４限だとTier4と被るかもしれません'},\n",
       " {'@yutaka has joined the channel': '了解です。すると木曜日４限以外の方がいいですね'},\n",
       " {'@yutaka has joined the channel': '防災ゼミですが、火曜５限とかどうですか'},\n",
       " {'@yutaka has joined the channel': 'AIゼミですが、オンライン参加の人は\\n<https://nihon-u-ac-jp.zoom.us/j/3288805434>\\nにはいってください'},\n",
       " {'@yutaka has joined the channel': '<https://nihon-u-ac-jp.zoom.us/j/3288805434>'},\n",
       " {'@yutaka has joined the channel': '<https://docs.google.com/presentation/d/1nyMu9pgcJHy5AMmlsenXLa6CrLwiHhSSfnEk7-4DuR0/edit#slide=id.p>'},\n",
       " {'@yutaka has joined the channel': '<https://docs.google.com/presentation/d/1E6Uom6i-M4RWXp6YepHA5t6dsduh9fIfgr2fBjxnk7A/edit#slide=id.p>'},\n",
       " {'@yutaka has joined the channel': '<https://docs.google.com/document/d/1EDi8zOvK5vj_zMuiEKvWH7GJbFNLWzJE?rtpof=true&authuser=matsuno.yutaka%40nihon-u.ac.jp&usp=drive_fs>'},\n",
       " {'@yutaka has joined the channel': '<http://www.jsik.jp/?tokokitei>'},\n",
       " {'@yutaka has joined the channel': 'ここに投稿する'}]"
      ]
     },
     "execution_count": 9,
     "metadata": {},
     "output_type": "execute_result"
    }
   ],
   "source": [
    "sample"
   ]
  },
  {
   "cell_type": "code",
   "execution_count": 3,
   "metadata": {},
   "outputs": [],
   "source": [
    "from util import vector_db\n",
    "target = \"@yutaka has joined the channel\""
   ]
  },
  {
   "cell_type": "code",
   "execution_count": 22,
   "metadata": {},
   "outputs": [],
   "source": [
    "import configparser\n",
    "\n",
    "class my_cfg:\n",
    "    openai_key = None\n",
    "    openai_org_id = None\n",
    "    SLACK_APP_TOKEN = None\n",
    "    SLACK_APP_TOKEN = None\n",
    "\n",
    "def setup_cfg(cfg=my_cfg):\n",
    "    tmp = configparser.ConfigParser()\n",
    "    tmp.read(\"config.ini\")\n",
    "    cfg.openai_key = tmp[\"OPEN_AI\"][\"key\"]\n",
    "    cfg.openai_org_id = tmp[\"OPEN_AI\"][\"organization_ID\"]\n",
    "    cfg.SLACK_APP_TOKEN = tmp[\"chatbot\"][\"SLACK_APP_TOKEN\"]\n",
    "    cfg.SLACK_APP_TOKEN = tmp[\"chatbot\"][\"SLACK_APP_TOKEN\"]\n",
    "    return cfg\n",
    "\n",
    "cfg = setup_cfg()"
   ]
  },
  {
   "cell_type": "code",
   "execution_count": 23,
   "metadata": {},
   "outputs": [],
   "source": [
    "db = vector_db(sample, cfg=cfg, target=target)"
   ]
  },
  {
   "cell_type": "code",
   "execution_count": 24,
   "metadata": {},
   "outputs": [],
   "source": [
    "db.save(\"sample.pkl.gz\")"
   ]
  },
  {
   "cell_type": "code",
   "execution_count": 26,
   "metadata": {},
   "outputs": [
    {
     "data": {
      "text/plain": [
       "[{'@yutaka has joined the channel': '防災ゼミですが、火曜５限とかどうですか'},\n",
       " {'@yutaka has joined the channel': 'AIゼミですが、オンライン参加の人は\\n<https://nihon-u-ac-jp.zoom.us/j/3288805434>\\nにはいってください'},\n",
       " {'@yutaka has joined the channel': '<https://nihon-u-ac-jp.zoom.us/j/3288805434>'},\n",
       " {'@yutaka has joined the channel': '了解です。すると木曜日４限以外の方がいいですね'},\n",
       " {'@yutaka has joined the channel': 'スクラムマスターは引き継ぎますが、最初の数回は僕が居合わせたいと思います。\\nそれと、木曜日４限だとTier4と被るかもしれません'}]"
      ]
     },
     "execution_count": 26,
     "metadata": {},
     "output_type": "execute_result"
    }
   ],
   "source": [
    "text = \"防災ゼミはいつありますか？\"\n",
    "db.query(text=text)"
   ]
  },
  {
   "cell_type": "code",
   "execution_count": 27,
   "metadata": {},
   "outputs": [],
   "source": [
    "db2 = vector_db(cfg=cfg)"
   ]
  },
  {
   "cell_type": "code",
   "execution_count": 28,
   "metadata": {},
   "outputs": [],
   "source": [
    "db2.load(\"sample.pkl.gz\")"
   ]
  },
  {
   "cell_type": "code",
   "execution_count": 29,
   "metadata": {},
   "outputs": [
    {
     "data": {
      "text/plain": [
       "[{'@yutaka has joined the channel': '防災ゼミですが、火曜５限とかどうですか'},\n",
       " {'@yutaka has joined the channel': 'AIゼミですが、オンライン参加の人は\\n<https://nihon-u-ac-jp.zoom.us/j/3288805434>\\nにはいってください'},\n",
       " {'@yutaka has joined the channel': '<https://nihon-u-ac-jp.zoom.us/j/3288805434>'},\n",
       " {'@yutaka has joined the channel': '了解です。すると木曜日４限以外の方がいいですね'},\n",
       " {'@yutaka has joined the channel': 'スクラムマスターは引き継ぎますが、最初の数回は僕が居合わせたいと思います。\\nそれと、木曜日４限だとTier4と被るかもしれません'}]"
      ]
     },
     "execution_count": 29,
     "metadata": {},
     "output_type": "execute_result"
    }
   ],
   "source": [
    "text = \"防災ゼミはいつありますか？\"\n",
    "db.query(text=text)"
   ]
  },
  {
   "cell_type": "code",
   "execution_count": null,
   "metadata": {},
   "outputs": [],
   "source": []
  }
 ],
 "metadata": {
  "kernelspec": {
   "display_name": "venv",
   "language": "python",
   "name": "python3"
  },
  "language_info": {
   "codemirror_mode": {
    "name": "ipython",
    "version": 3
   },
   "file_extension": ".py",
   "mimetype": "text/x-python",
   "name": "python",
   "nbconvert_exporter": "python",
   "pygments_lexer": "ipython3",
   "version": "3.8.10"
  },
  "orig_nbformat": 4
 },
 "nbformat": 4,
 "nbformat_minor": 2
}
