{
 "cells": [
  {
   "cell_type": "code",
   "execution_count": 22,
   "metadata": {},
   "outputs": [],
   "source": [
    "import os\n",
    "import configparser\n",
    "from util.vector_db import vector_db\n",
    "\n",
    "class my_cfg:\n",
    "    openai_key = None\n",
    "    openai_org_id = None\n",
    "    SLACK_APP_TOKEN = None\n",
    "    SLACK_USER_TOKEN = None\n",
    "    SLACK_BOT_TOKEN = None\n",
    "    SLACK_API_TOKEN = None\n",
    "    SLACK_SIGNING = None\n",
    "\n",
    "def setup_cfg(cfg=my_cfg):\n",
    "    tmp = configparser.ConfigParser()\n",
    "    tmp.read(\"config.ini\")\n",
    "    cfg.openai_key = tmp[\"OPEN_AI\"][\"key\"]\n",
    "    cfg.openai_org_id = tmp[\"OPEN_AI\"][\"organization_ID\"]\n",
    "    return cfg\n",
    "\n",
    "cfg = setup_cfg()\n",
    "db = vector_db(cfg=cfg)\n"
   ]
  },
  {
   "cell_type": "code",
   "execution_count": 23,
   "metadata": {},
   "outputs": [
    {
     "data": {
      "text/plain": [
       "'/Users/yu/program/chatbot23/data/all_data.pkl.gz'"
      ]
     },
     "execution_count": 23,
     "metadata": {},
     "output_type": "execute_result"
    }
   ],
   "source": [
    "path = os.path.join(os.path.dirname(os.getcwd()), \"data\", \"all_data.pkl.gz\")\n",
    "path"
   ]
  },
  {
   "cell_type": "code",
   "execution_count": 24,
   "metadata": {},
   "outputs": [],
   "source": [
    "db.load(path)"
   ]
  },
  {
   "cell_type": "code",
   "execution_count": 25,
   "metadata": {},
   "outputs": [],
   "source": [
    "a = db.query(\"山田\")"
   ]
  },
  {
   "cell_type": "code",
   "execution_count": 29,
   "metadata": {},
   "outputs": [
    {
     "data": {
      "text/plain": [
       "{'blocks': [{'block_id': 'r5dH',\n",
       "   'elements': [{'elements': [{'text': 'プログラミング言語\\n山田', 'type': 'text'}],\n",
       "     'type': 'rich_text_section'}],\n",
       "   'type': 'rich_text'}],\n",
       " 'client_msg_id': '5b15a599-75b7-44f2-838b-5f51fb7d56ae',\n",
       " 'team': 'T6WULA63S',\n",
       " 'text': 'プログラミング言語\\n山田',\n",
       " 'ts': '1655785870.932659',\n",
       " 'type': 'message',\n",
       " 'user': 'U6YLZUWAK'}"
      ]
     },
     "execution_count": 29,
     "metadata": {},
     "output_type": "execute_result"
    }
   ],
   "source": [
    "a[0]"
   ]
  },
  {
   "cell_type": "code",
   "execution_count": null,
   "metadata": {},
   "outputs": [],
   "source": []
  }
 ],
 "metadata": {
  "kernelspec": {
   "display_name": "venv",
   "language": "python",
   "name": "python3"
  },
  "language_info": {
   "codemirror_mode": {
    "name": "ipython",
    "version": 3
   },
   "file_extension": ".py",
   "mimetype": "text/x-python",
   "name": "python",
   "nbconvert_exporter": "python",
   "pygments_lexer": "ipython3",
   "version": "3.9.11"
  },
  "orig_nbformat": 4
 },
 "nbformat": 4,
 "nbformat_minor": 2
}
