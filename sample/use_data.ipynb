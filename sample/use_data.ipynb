{
 "cells": [
  {
   "cell_type": "code",
   "execution_count": null,
   "metadata": {},
   "outputs": [],
   "source": [
    "import os\n",
    "import json\n",
    "data_path = os.path.join(os.path.dirname(os.getcwd()), \"slack_data\")\n",
    "channel = os.listdir(data_path)\n",
    "channel[47]"
   ]
  },
  {
   "cell_type": "code",
   "execution_count": null,
   "metadata": {},
   "outputs": [],
   "source": [
    "import glob\n",
    "tmp = os.path.join(data_path,channel[47], \"*.json\")\n",
    "target = glob.glob(tmp)[0]\n"
   ]
  },
  {
   "cell_type": "code",
   "execution_count": null,
   "metadata": {},
   "outputs": [],
   "source": [
    "target"
   ]
  },
  {
   "cell_type": "code",
   "execution_count": null,
   "metadata": {},
   "outputs": [],
   "source": [
    "with open(target) as f:\n",
    "    data = json.load(f)"
   ]
  },
  {
   "cell_type": "code",
   "execution_count": null,
   "metadata": {},
   "outputs": [],
   "source": [
    "len(data)"
   ]
  },
  {
   "cell_type": "code",
   "execution_count": null,
   "metadata": {},
   "outputs": [],
   "source": [
    "data[20][\"user_name\"] = \"hhh\""
   ]
  },
  {
   "cell_type": "code",
   "execution_count": null,
   "metadata": {},
   "outputs": [],
   "source": [
    "data[:5]"
   ]
  },
  {
   "cell_type": "code",
   "execution_count": null,
   "metadata": {},
   "outputs": [],
   "source": [
    "from util import vector_db\n",
    "import configparser\n",
    "\n",
    "\n",
    "class my_cfg:\n",
    "    openai_key = None\n",
    "    openai_org_id = None\n",
    "    SLACK_APP_TOKEN = None\n",
    "    SLACK_BOT_TOKEN = None\n",
    "\n",
    "def setup_cfg(cfg=my_cfg):\n",
    "    tmp = configparser.ConfigParser()\n",
    "    tmp.read(\"config.ini\")\n",
    "    cfg.openai_key = tmp[\"OPEN_AI\"][\"key\"]\n",
    "    cfg.openai_org_id = tmp[\"OPEN_AI\"][\"organization_ID\"]\n",
    "    cfg.SLACK_APP_TOKEN = tmp[\"chatbot\"][\"SLACK_APP_TOKEN\"]\n",
    "    cfg.SLACK_BOT_TOKEN = tmp[\"chatbot\"][\"SLACK_BOT_TOKEN\"]\n",
    "    return cfg\n",
    "\n",
    "cfg = setup_cfg()\n",
    "\n",
    "db = vector_db(target=\"text\", cfg=cfg)\n",
    "db.add_documents(data)\n",
    "db.save(\"全体ゼミ.pkl.gz\")"
   ]
  },
  {
   "cell_type": "code",
   "execution_count": null,
   "metadata": {},
   "outputs": [],
   "source": [
    "a = db.query(\"おはよ\")"
   ]
  },
  {
   "cell_type": "code",
   "execution_count": null,
   "metadata": {},
   "outputs": [],
   "source": [
    "a"
   ]
  },
  {
   "cell_type": "code",
   "execution_count": null,
   "metadata": {},
   "outputs": [],
   "source": [
    "from util import vector_db\n",
    "import configparser\n",
    "\n",
    "\n",
    "class my_cfg:\n",
    "    openai_key = None\n",
    "    openai_org_id = None\n",
    "    SLACK_APP_TOKEN = None\n",
    "    SLACK_BOT_TOKEN = None\n",
    "\n",
    "def setup_cfg(cfg=my_cfg):\n",
    "    tmp = configparser.ConfigParser()\n",
    "    tmp.read(\"config.ini\")\n",
    "    cfg.openai_key = tmp[\"OPEN_AI\"][\"key\"]\n",
    "    cfg.openai_org_id = tmp[\"OPEN_AI\"][\"organization_ID\"]\n",
    "    cfg.SLACK_APP_TOKEN = tmp[\"chatbot\"][\"SLACK_APP_TOKEN\"]\n",
    "    cfg.SLACK_BOT_TOKEN = tmp[\"chatbot\"][\"SLACK_BOT_TOKEN\"]\n",
    "    return cfg\n",
    "\n",
    "cfg = setup_cfg()\n",
    "\n",
    "db = vector_db(cfg=cfg)\n",
    "db.load(\"全体ゼミ.pkl.gz\")"
   ]
  },
  {
   "cell_type": "code",
   "execution_count": null,
   "metadata": {},
   "outputs": [],
   "source": [
    "a = db.query(\"山田さん\",k=2)\n",
    "a[0]"
   ]
  },
  {
   "cell_type": "code",
   "execution_count": null,
   "metadata": {},
   "outputs": [],
   "source": [
    "sample = f\"{a[0]['user']}が:{a[0]['ts']}に, {a[0]['text']}と、いった\"\n",
    "sample"
   ]
  },
  {
   "cell_type": "code",
   "execution_count": null,
   "metadata": {},
   "outputs": [],
   "source": []
  }
 ],
 "metadata": {
  "kernelspec": {
   "display_name": "venv",
   "language": "python",
   "name": "python3"
  },
  "language_info": {
   "codemirror_mode": {
    "name": "ipython",
    "version": 3
   },
   "file_extension": ".py",
   "mimetype": "text/x-python",
   "name": "python",
   "nbconvert_exporter": "python",
   "pygments_lexer": "ipython3",
   "version": "3.10.10"
  },
  "orig_nbformat": 4
 },
 "nbformat": 4,
 "nbformat_minor": 2
}
