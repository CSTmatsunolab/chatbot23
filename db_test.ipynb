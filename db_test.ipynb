{
 "cells": [
  {
   "cell_type": "code",
   "execution_count": 4,
   "metadata": {},
   "outputs": [],
   "source": [
    "import json \n",
    "with open(\"log_sample.json\") as f:\n",
    "    sample = json.load(f)"
   ]
  },
  {
   "cell_type": "code",
   "execution_count": null,
   "metadata": {},
   "outputs": [],
   "source": []
  },
  {
   "cell_type": "code",
   "execution_count": 6,
   "metadata": {},
   "outputs": [
    {
     "data": {
      "text/plain": [
       "1732"
      ]
     },
     "execution_count": 6,
     "metadata": {},
     "output_type": "execute_result"
    }
   ],
   "source": [
    "len(sample)"
   ]
  },
  {
   "cell_type": "code",
   "execution_count": 7,
   "metadata": {},
   "outputs": [],
   "source": [
    "from util import vector_db\n",
    "target = \"@yutaka has joined the channel\""
   ]
  },
  {
   "cell_type": "code",
   "execution_count": 8,
   "metadata": {},
   "outputs": [],
   "source": [
    "import configparser\n",
    "\n",
    "class my_cfg:\n",
    "    openai_key = None\n",
    "    openai_org_id = None\n",
    "    SLACK_APP_TOKEN = None\n",
    "    SLACK_APP_TOKEN = None\n",
    "\n",
    "def setup_cfg(cfg=my_cfg):\n",
    "    tmp = configparser.ConfigParser()\n",
    "    tmp.read(\"config.ini\")\n",
    "    cfg.openai_key = tmp[\"OPEN_AI\"][\"key\"]\n",
    "    cfg.openai_org_id = tmp[\"OPEN_AI\"][\"organization_ID\"]\n",
    "    cfg.SLACK_APP_TOKEN = tmp[\"chatbot\"][\"SLACK_APP_TOKEN\"]\n",
    "    cfg.SLACK_APP_TOKEN = tmp[\"chatbot\"][\"SLACK_APP_TOKEN\"]\n",
    "    return cfg\n",
    "\n",
    "cfg = setup_cfg()"
   ]
  },
  {
   "cell_type": "code",
   "execution_count": 9,
   "metadata": {},
   "outputs": [],
   "source": [
    "db = vector_db(sample, cfg=cfg, target=target)"
   ]
  },
  {
   "cell_type": "code",
   "execution_count": 10,
   "metadata": {},
   "outputs": [],
   "source": [
    "db.save(\"sample.pkl.gz\")"
   ]
  },
  {
   "cell_type": "code",
   "execution_count": 13,
   "metadata": {},
   "outputs": [],
   "source": [
    "text = \"防災ゼミはいつありますか？\"\n",
    "a = db.query(text=text, k=10)"
   ]
  },
  {
   "cell_type": "code",
   "execution_count": 15,
   "metadata": {},
   "outputs": [
    {
     "data": {
      "text/plain": [
       "[{'@yutaka has joined the channel': '防災ゼミですが、火曜５限とかどうですか'},\n",
       " {'@yutaka has joined the channel': 'すいません、２月２４日は１０時から３年ゼミ発表、４年卒研発表にしていましたが、防災アプリの東海大でのオンライン実験が入ったので、３年ゼミ発表、４年卒研発表は２４日の３限、４限の時間にします。'},\n",
       " {'@yutaka has joined the channel': 'すいません、２月２４日は１０時から３年ゼミ発表、４年卒研発表にしていましたが、防災アプリの東海大でのオンライン実験が入ったので、３年ゼミ発表、４年卒研発表は２４日の３限、４限の時間にします。'},\n",
       " {'@yutaka has joined the channel': '全体ゼミのあと、簡単に防災アプリの相談をします。'},\n",
       " {'@yutaka has joined the channel': '全体ゼミのあと、簡単に防災アプリの相談をします。'},\n",
       " {'@yutaka has joined the channel': '今週の全体ゼミはお休みで、その時間は簡単に防災アプリの相談をします。'},\n",
       " {'@yutaka has joined the channel': '今週の全体ゼミはお休みで、その時間は簡単に防災アプリの相談をします。'},\n",
       " {'@yutaka has joined the channel': '今週の全体ゼミですが、まだ全体で話すことはないので、おやすみにします。火曜２限は代わりに防災アプリのゼミをします。次回の全体ゼミは２４日にします。来週の火曜２限は防災アプリゼミにしようかなと思います。<!channel>'},\n",
       " {'@yutaka has joined the channel': '今週の全体ゼミですが、まだ全体で話すことはないので、おやすみにします。火曜２限は代わりに防災アプリのゼミをします。次回の全体ゼミは２４日にします。来週の火曜２限は防災アプリゼミにしようかなと思います。<!channel>'},\n",
       " {'@yutaka has joined the channel': '防災引き継ぎ\\u30002月22日(火)2、３限'}]"
      ]
     },
     "execution_count": 15,
     "metadata": {},
     "output_type": "execute_result"
    }
   ],
   "source": [
    "a"
   ]
  },
  {
   "cell_type": "code",
   "execution_count": 18,
   "metadata": {},
   "outputs": [],
   "source": [
    "a = list(map(lambda x: list(x.values()), a))"
   ]
  },
  {
   "cell_type": "code",
   "execution_count": 23,
   "metadata": {},
   "outputs": [],
   "source": [
    "a = sum(a, [])"
   ]
  },
  {
   "cell_type": "code",
   "execution_count": 24,
   "metadata": {},
   "outputs": [
    {
     "data": {
      "text/plain": [
       "'防災ゼミですが、火曜５限とかどうですか/nすいません、２月２４日は１０時から３年ゼミ発表、４年卒研発表にしていましたが、防災アプリの東海大でのオンライン実験が入ったので、３年ゼミ発表、４年卒研発表は２４日の３限、４限の時間にします。/nすいません、２月２４日は１０時から３年ゼミ発表、４年卒研発表にしていましたが、防災アプリの東海大でのオンライン実験が入ったので、３年ゼミ発表、４年卒研発表は２４日の３限、４限の時間にします。/n全体ゼミのあと、簡単に防災アプリの相談をします。/n全体ゼミのあと、簡単に防災アプリの相談をします。/n今週の全体ゼミはお休みで、その時間は簡単に防災アプリの相談をします。/n今週の全体ゼミはお休みで、その時間は簡単に防災アプリの相談をします。/n今週の全体ゼミですが、まだ全体で話すことはないので、おやすみにします。火曜２限は代わりに防災アプリのゼミをします。次回の全体ゼミは２４日にします。来週の火曜２限は防災アプリゼミにしようかなと思います。<!channel>/n今週の全体ゼミですが、まだ全体で話すことはないので、おやすみにします。火曜２限は代わりに防災アプリのゼミをします。次回の全体ゼミは２４日にします。来週の火曜２限は防災アプリゼミにしようかなと思います。<!channel>/n防災引き継ぎ\\u30002月22日(火)2、３限'"
      ]
     },
     "execution_count": 24,
     "metadata": {},
     "output_type": "execute_result"
    }
   ],
   "source": [
    "\"/n\".join(a)"
   ]
  },
  {
   "cell_type": "code",
   "execution_count": null,
   "metadata": {},
   "outputs": [],
   "source": []
  },
  {
   "cell_type": "code",
   "execution_count": 33,
   "metadata": {},
   "outputs": [],
   "source": [
    "db2 = vector_db(cfg=cfg)"
   ]
  },
  {
   "cell_type": "code",
   "execution_count": 34,
   "metadata": {},
   "outputs": [],
   "source": [
    "db2.load(\"sample.pkl.gz\")"
   ]
  },
  {
   "cell_type": "code",
   "execution_count": 35,
   "metadata": {},
   "outputs": [],
   "source": [
    "text = \"防災ゼミはいつありますか？\"\n",
    "a = db2.query(text=text, k=8)"
   ]
  },
  {
   "cell_type": "code",
   "execution_count": 36,
   "metadata": {},
   "outputs": [
    {
     "data": {
      "text/plain": [
       "['防災ゼミですが、火曜５限とかどうですか']"
      ]
     },
     "execution_count": 36,
     "metadata": {},
     "output_type": "execute_result"
    }
   ],
   "source": [
    "list(a[0].values())"
   ]
  },
  {
   "cell_type": "code",
   "execution_count": 25,
   "metadata": {},
   "outputs": [
    {
     "ename": "AttributeError",
     "evalue": "'list' object has no attribute 'values'",
     "output_type": "error",
     "traceback": [
      "\u001b[0;31m---------------------------------------------------------------------------\u001b[0m",
      "\u001b[0;31mAttributeError\u001b[0m                            Traceback (most recent call last)",
      "Cell \u001b[0;32mIn[25], line 1\u001b[0m\n\u001b[0;32m----> 1\u001b[0m a \u001b[39m=\u001b[39m (a\u001b[39m.\u001b[39;49mvalues())\n",
      "\u001b[0;31mAttributeError\u001b[0m: 'list' object has no attribute 'values'"
     ]
    }
   ],
   "source": [
    "a = (a.values())"
   ]
  },
  {
   "cell_type": "code",
   "execution_count": 18,
   "metadata": {},
   "outputs": [
    {
     "name": "stdout",
     "output_type": "stream",
     "text": [
      "dict_values(['防災ゼミですが、火曜５限とかどうですか'])\n"
     ]
    }
   ],
   "source": [
    "print(a)"
   ]
  },
  {
   "cell_type": "code",
   "execution_count": null,
   "metadata": {},
   "outputs": [],
   "source": []
  }
 ],
 "metadata": {
  "kernelspec": {
   "display_name": "venv",
   "language": "python",
   "name": "python3"
  },
  "language_info": {
   "codemirror_mode": {
    "name": "ipython",
    "version": 3
   },
   "file_extension": ".py",
   "mimetype": "text/x-python",
   "name": "python",
   "nbconvert_exporter": "python",
   "pygments_lexer": "ipython3",
   "version": "3.8.10"
  },
  "orig_nbformat": 4
 },
 "nbformat": 4,
 "nbformat_minor": 2
}
