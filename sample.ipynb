{
 "cells": [
  {
   "cell_type": "code",
   "execution_count": 16,
   "metadata": {},
   "outputs": [],
   "source": [
    "from util import vector_db, summrize_from_url\n",
    "import configparser\n",
    "class my_cfg:\n",
    "    openai_key = None\n",
    "    openai_org_id = None\n",
    "    SLACK_APP_TOKEN = None\n",
    "    SLACK_USER_TOKEN = None\n",
    "    SLACK_BOT_TOKEN = None\n",
    "    SLACK_API_TOKEN = None\n",
    "    SLACK_SIGNING = None\n",
    "\n",
    "def setup_cfg(cfg=my_cfg):\n",
    "    tmp = configparser.ConfigParser()\n",
    "    tmp.read(\"data/config.ini\")\n",
    "    cfg.openai_key = tmp[\"OPEN_AI\"][\"key\"]\n",
    "    cfg.openai_org_id = tmp[\"OPEN_AI\"][\"organization_ID\"]\n",
    "    cfg.SLACK_BOT_TOKEN = tmp[\"chatbot\"][\"SLACK_BOT_TOKEN\"]\n",
    "    cfg.SLACK_USER_TOKEN = tmp[\"chatbot\"][\"SLACK_USER_TOKEN\"]\n",
    "    cfg.SLACK_APP_TOKEN = tmp[\"chatbot\"][\"SLACK_APP_TOKEN\"]\n",
    "    cfg.SLACK_API_TOKEN = tmp[\"chatbot\"][\"SLACK_API_TOKEN\"]\n",
    "    cfg.SLACK_SIGNING = tmp[\"chatbot\"][\"SLACK_SIGNING\"]\n",
    "    return cfg\n",
    "\n",
    "cfg = setup_cfg()\n",
    "db = vector_db(cfg=cfg) \n",
    "db.load(\"data/all_data.pkl.gz\")"
   ]
  },
  {
   "cell_type": "code",
   "execution_count": 17,
   "metadata": {},
   "outputs": [],
   "source": [
    "a = db.query(\"防災ゼミ\" , k=3)"
   ]
  },
  {
   "cell_type": "code",
   "execution_count": 19,
   "metadata": {},
   "outputs": [
    {
     "data": {
      "text/plain": [
       "{'blocks': [{'block_id': 'pDxR',\n",
       "   'elements': [{'elements': [{'text': '全体ゼミのあと、簡単に防災アプリの相談をします。',\n",
       "       'type': 'text'}],\n",
       "     'type': 'rich_text_section'}],\n",
       "   'type': 'rich_text'}],\n",
       " 'client_msg_id': '09458132-446f-4e9a-b447-e479ee0f1778',\n",
       " 'reactions': [{'count': 1, 'name': 'ryoukai', 'users': ['U01CJ8MK0M6']}],\n",
       " 'team': 'T6WULA63S',\n",
       " 'text': '全体ゼミのあと、簡単に防災アプリの相談をします。',\n",
       " 'ts': '1654474893.416489',\n",
       " 'type': 'message',\n",
       " 'user': 'U6YLZUWAK'}"
      ]
     },
     "execution_count": 19,
     "metadata": {},
     "output_type": "execute_result"
    }
   ],
   "source": [
    "a[1]"
   ]
  },
  {
   "cell_type": "code",
   "execution_count": 8,
   "metadata": {},
   "outputs": [],
   "source": [
    "import os \n",
    "import glob\n",
    "import json\n",
    "target = os.listdir(os.path.join(os.getcwd(), \"sample_folder\"))\n",
    "file_list = [glob.glob(os.path.join(os.getcwd(), \"sample_folder\", i)+\"/*.json\") for i in target]\n",
    "file_list = sum(file_list, [])"
   ]
  },
  {
   "cell_type": "code",
   "execution_count": 9,
   "metadata": {},
   "outputs": [],
   "source": [
    "for path in file_list:\n",
    "        if not \"channel_list\" in path:\n",
    "            with open(path) as f:\n",
    "                data = json.load(f)"
   ]
  },
  {
   "cell_type": "code",
   "execution_count": 15,
   "metadata": {},
   "outputs": [
    {
     "data": {
      "text/plain": [
       "{'blocks': [{'block_id': 'CXZP',\n",
       "   'elements': [{'elements': [{'text': 'あとすいませんが杉田くんのもおねがいします。',\n",
       "       'type': 'text'}],\n",
       "     'type': 'rich_text_section'}],\n",
       "   'type': 'rich_text'}],\n",
       " 'client_msg_id': 'df6df88f-f256-4110-b1ea-a2071ae3313f',\n",
       " 'team': 'T6WULA63S',\n",
       " 'text': 'あとすいませんが杉田くんのもおねがいします。',\n",
       " 'ts': '1581803899.015900',\n",
       " 'type': 'message',\n",
       " 'user': 'U6YLZUWAK'}"
      ]
     },
     "execution_count": 15,
     "metadata": {},
     "output_type": "execute_result"
    }
   ],
   "source": [
    "data[3]"
   ]
  },
  {
   "cell_type": "code",
   "execution_count": null,
   "metadata": {},
   "outputs": [],
   "source": []
  }
 ],
 "metadata": {
  "kernelspec": {
   "display_name": "venv",
   "language": "python",
   "name": "python3"
  },
  "language_info": {
   "codemirror_mode": {
    "name": "ipython",
    "version": 3
   },
   "file_extension": ".py",
   "mimetype": "text/x-python",
   "name": "python",
   "nbconvert_exporter": "python",
   "pygments_lexer": "ipython3",
   "version": "3.9.11"
  },
  "orig_nbformat": 4
 },
 "nbformat": 4,
 "nbformat_minor": 2
}
